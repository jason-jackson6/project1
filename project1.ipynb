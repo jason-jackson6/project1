{
 "cells": [
  {
   "cell_type": "code",
   "execution_count": 5,
   "metadata": {
    "scrolled": true
   },
   "outputs": [],
   "source": [
    "import pandas as pd \n",
    "import numpy as np \n",
    "import matplotlib.pyplot as plt \n",
    "import seaborn as sns \n",
    "%matplotlib inline "
   ]
  },
  {
   "cell_type": "markdown",
   "metadata": {},
   "source": [
    "## Hall of Fame : Nominations and Inductions\n",
    "\n",
    "### Table: Hall of Fame\n",
    "\n",
    "#### For this analysis, we will make observations on patterns of how Hall of Fame nominations and inductions have occured over the years and see if there are any interesting revealations."
   ]
  },
  {
   "cell_type": "code",
   "execution_count": 6,
   "metadata": {},
   "outputs": [
    {
     "ename": "FileNotFoundError",
     "evalue": "[Errno 2] No such file or directory: './core/HallofFame.csv'",
     "output_type": "error",
     "traceback": [
      "\u001b[0;31m---------------------------------------------------------------------------\u001b[0m",
      "\u001b[0;31mFileNotFoundError\u001b[0m                         Traceback (most recent call last)",
      "Cell \u001b[0;32mIn[6], line 2\u001b[0m\n\u001b[1;32m      1\u001b[0m \u001b[38;5;66;03m#loading the hall of fame table\u001b[39;00m\n\u001b[0;32m----> 2\u001b[0m hof \u001b[38;5;241m=\u001b[39m \u001b[43mpd\u001b[49m\u001b[38;5;241;43m.\u001b[39;49m\u001b[43mread_csv\u001b[49m\u001b[43m(\u001b[49m\u001b[38;5;124;43m'\u001b[39;49m\u001b[38;5;124;43m./core/HallofFame.csv\u001b[39;49m\u001b[38;5;124;43m'\u001b[39;49m\u001b[43m)\u001b[49m\n",
      "File \u001b[0;32m~/.local/lib/python3.8/site-packages/pandas/io/parsers/readers.py:912\u001b[0m, in \u001b[0;36mread_csv\u001b[0;34m(filepath_or_buffer, sep, delimiter, header, names, index_col, usecols, dtype, engine, converters, true_values, false_values, skipinitialspace, skiprows, skipfooter, nrows, na_values, keep_default_na, na_filter, verbose, skip_blank_lines, parse_dates, infer_datetime_format, keep_date_col, date_parser, date_format, dayfirst, cache_dates, iterator, chunksize, compression, thousands, decimal, lineterminator, quotechar, quoting, doublequote, escapechar, comment, encoding, encoding_errors, dialect, on_bad_lines, delim_whitespace, low_memory, memory_map, float_precision, storage_options, dtype_backend)\u001b[0m\n\u001b[1;32m    899\u001b[0m kwds_defaults \u001b[38;5;241m=\u001b[39m _refine_defaults_read(\n\u001b[1;32m    900\u001b[0m     dialect,\n\u001b[1;32m    901\u001b[0m     delimiter,\n\u001b[0;32m   (...)\u001b[0m\n\u001b[1;32m    908\u001b[0m     dtype_backend\u001b[38;5;241m=\u001b[39mdtype_backend,\n\u001b[1;32m    909\u001b[0m )\n\u001b[1;32m    910\u001b[0m kwds\u001b[38;5;241m.\u001b[39mupdate(kwds_defaults)\n\u001b[0;32m--> 912\u001b[0m \u001b[38;5;28;01mreturn\u001b[39;00m \u001b[43m_read\u001b[49m\u001b[43m(\u001b[49m\u001b[43mfilepath_or_buffer\u001b[49m\u001b[43m,\u001b[49m\u001b[43m \u001b[49m\u001b[43mkwds\u001b[49m\u001b[43m)\u001b[49m\n",
      "File \u001b[0;32m~/.local/lib/python3.8/site-packages/pandas/io/parsers/readers.py:577\u001b[0m, in \u001b[0;36m_read\u001b[0;34m(filepath_or_buffer, kwds)\u001b[0m\n\u001b[1;32m    574\u001b[0m _validate_names(kwds\u001b[38;5;241m.\u001b[39mget(\u001b[38;5;124m\"\u001b[39m\u001b[38;5;124mnames\u001b[39m\u001b[38;5;124m\"\u001b[39m, \u001b[38;5;28;01mNone\u001b[39;00m))\n\u001b[1;32m    576\u001b[0m \u001b[38;5;66;03m# Create the parser.\u001b[39;00m\n\u001b[0;32m--> 577\u001b[0m parser \u001b[38;5;241m=\u001b[39m \u001b[43mTextFileReader\u001b[49m\u001b[43m(\u001b[49m\u001b[43mfilepath_or_buffer\u001b[49m\u001b[43m,\u001b[49m\u001b[43m \u001b[49m\u001b[38;5;241;43m*\u001b[39;49m\u001b[38;5;241;43m*\u001b[39;49m\u001b[43mkwds\u001b[49m\u001b[43m)\u001b[49m\n\u001b[1;32m    579\u001b[0m \u001b[38;5;28;01mif\u001b[39;00m chunksize \u001b[38;5;129;01mor\u001b[39;00m iterator:\n\u001b[1;32m    580\u001b[0m     \u001b[38;5;28;01mreturn\u001b[39;00m parser\n",
      "File \u001b[0;32m~/.local/lib/python3.8/site-packages/pandas/io/parsers/readers.py:1407\u001b[0m, in \u001b[0;36mTextFileReader.__init__\u001b[0;34m(self, f, engine, **kwds)\u001b[0m\n\u001b[1;32m   1404\u001b[0m     \u001b[38;5;28mself\u001b[39m\u001b[38;5;241m.\u001b[39moptions[\u001b[38;5;124m\"\u001b[39m\u001b[38;5;124mhas_index_names\u001b[39m\u001b[38;5;124m\"\u001b[39m] \u001b[38;5;241m=\u001b[39m kwds[\u001b[38;5;124m\"\u001b[39m\u001b[38;5;124mhas_index_names\u001b[39m\u001b[38;5;124m\"\u001b[39m]\n\u001b[1;32m   1406\u001b[0m \u001b[38;5;28mself\u001b[39m\u001b[38;5;241m.\u001b[39mhandles: IOHandles \u001b[38;5;241m|\u001b[39m \u001b[38;5;28;01mNone\u001b[39;00m \u001b[38;5;241m=\u001b[39m \u001b[38;5;28;01mNone\u001b[39;00m\n\u001b[0;32m-> 1407\u001b[0m \u001b[38;5;28mself\u001b[39m\u001b[38;5;241m.\u001b[39m_engine \u001b[38;5;241m=\u001b[39m \u001b[38;5;28;43mself\u001b[39;49m\u001b[38;5;241;43m.\u001b[39;49m\u001b[43m_make_engine\u001b[49m\u001b[43m(\u001b[49m\u001b[43mf\u001b[49m\u001b[43m,\u001b[49m\u001b[43m \u001b[49m\u001b[38;5;28;43mself\u001b[39;49m\u001b[38;5;241;43m.\u001b[39;49m\u001b[43mengine\u001b[49m\u001b[43m)\u001b[49m\n",
      "File \u001b[0;32m~/.local/lib/python3.8/site-packages/pandas/io/parsers/readers.py:1661\u001b[0m, in \u001b[0;36mTextFileReader._make_engine\u001b[0;34m(self, f, engine)\u001b[0m\n\u001b[1;32m   1659\u001b[0m     \u001b[38;5;28;01mif\u001b[39;00m \u001b[38;5;124m\"\u001b[39m\u001b[38;5;124mb\u001b[39m\u001b[38;5;124m\"\u001b[39m \u001b[38;5;129;01mnot\u001b[39;00m \u001b[38;5;129;01min\u001b[39;00m mode:\n\u001b[1;32m   1660\u001b[0m         mode \u001b[38;5;241m+\u001b[39m\u001b[38;5;241m=\u001b[39m \u001b[38;5;124m\"\u001b[39m\u001b[38;5;124mb\u001b[39m\u001b[38;5;124m\"\u001b[39m\n\u001b[0;32m-> 1661\u001b[0m \u001b[38;5;28mself\u001b[39m\u001b[38;5;241m.\u001b[39mhandles \u001b[38;5;241m=\u001b[39m \u001b[43mget_handle\u001b[49m\u001b[43m(\u001b[49m\n\u001b[1;32m   1662\u001b[0m \u001b[43m    \u001b[49m\u001b[43mf\u001b[49m\u001b[43m,\u001b[49m\n\u001b[1;32m   1663\u001b[0m \u001b[43m    \u001b[49m\u001b[43mmode\u001b[49m\u001b[43m,\u001b[49m\n\u001b[1;32m   1664\u001b[0m \u001b[43m    \u001b[49m\u001b[43mencoding\u001b[49m\u001b[38;5;241;43m=\u001b[39;49m\u001b[38;5;28;43mself\u001b[39;49m\u001b[38;5;241;43m.\u001b[39;49m\u001b[43moptions\u001b[49m\u001b[38;5;241;43m.\u001b[39;49m\u001b[43mget\u001b[49m\u001b[43m(\u001b[49m\u001b[38;5;124;43m\"\u001b[39;49m\u001b[38;5;124;43mencoding\u001b[39;49m\u001b[38;5;124;43m\"\u001b[39;49m\u001b[43m,\u001b[49m\u001b[43m \u001b[49m\u001b[38;5;28;43;01mNone\u001b[39;49;00m\u001b[43m)\u001b[49m\u001b[43m,\u001b[49m\n\u001b[1;32m   1665\u001b[0m \u001b[43m    \u001b[49m\u001b[43mcompression\u001b[49m\u001b[38;5;241;43m=\u001b[39;49m\u001b[38;5;28;43mself\u001b[39;49m\u001b[38;5;241;43m.\u001b[39;49m\u001b[43moptions\u001b[49m\u001b[38;5;241;43m.\u001b[39;49m\u001b[43mget\u001b[49m\u001b[43m(\u001b[49m\u001b[38;5;124;43m\"\u001b[39;49m\u001b[38;5;124;43mcompression\u001b[39;49m\u001b[38;5;124;43m\"\u001b[39;49m\u001b[43m,\u001b[49m\u001b[43m \u001b[49m\u001b[38;5;28;43;01mNone\u001b[39;49;00m\u001b[43m)\u001b[49m\u001b[43m,\u001b[49m\n\u001b[1;32m   1666\u001b[0m \u001b[43m    \u001b[49m\u001b[43mmemory_map\u001b[49m\u001b[38;5;241;43m=\u001b[39;49m\u001b[38;5;28;43mself\u001b[39;49m\u001b[38;5;241;43m.\u001b[39;49m\u001b[43moptions\u001b[49m\u001b[38;5;241;43m.\u001b[39;49m\u001b[43mget\u001b[49m\u001b[43m(\u001b[49m\u001b[38;5;124;43m\"\u001b[39;49m\u001b[38;5;124;43mmemory_map\u001b[39;49m\u001b[38;5;124;43m\"\u001b[39;49m\u001b[43m,\u001b[49m\u001b[43m \u001b[49m\u001b[38;5;28;43;01mFalse\u001b[39;49;00m\u001b[43m)\u001b[49m\u001b[43m,\u001b[49m\n\u001b[1;32m   1667\u001b[0m \u001b[43m    \u001b[49m\u001b[43mis_text\u001b[49m\u001b[38;5;241;43m=\u001b[39;49m\u001b[43mis_text\u001b[49m\u001b[43m,\u001b[49m\n\u001b[1;32m   1668\u001b[0m \u001b[43m    \u001b[49m\u001b[43merrors\u001b[49m\u001b[38;5;241;43m=\u001b[39;49m\u001b[38;5;28;43mself\u001b[39;49m\u001b[38;5;241;43m.\u001b[39;49m\u001b[43moptions\u001b[49m\u001b[38;5;241;43m.\u001b[39;49m\u001b[43mget\u001b[49m\u001b[43m(\u001b[49m\u001b[38;5;124;43m\"\u001b[39;49m\u001b[38;5;124;43mencoding_errors\u001b[39;49m\u001b[38;5;124;43m\"\u001b[39;49m\u001b[43m,\u001b[49m\u001b[43m \u001b[49m\u001b[38;5;124;43m\"\u001b[39;49m\u001b[38;5;124;43mstrict\u001b[39;49m\u001b[38;5;124;43m\"\u001b[39;49m\u001b[43m)\u001b[49m\u001b[43m,\u001b[49m\n\u001b[1;32m   1669\u001b[0m \u001b[43m    \u001b[49m\u001b[43mstorage_options\u001b[49m\u001b[38;5;241;43m=\u001b[39;49m\u001b[38;5;28;43mself\u001b[39;49m\u001b[38;5;241;43m.\u001b[39;49m\u001b[43moptions\u001b[49m\u001b[38;5;241;43m.\u001b[39;49m\u001b[43mget\u001b[49m\u001b[43m(\u001b[49m\u001b[38;5;124;43m\"\u001b[39;49m\u001b[38;5;124;43mstorage_options\u001b[39;49m\u001b[38;5;124;43m\"\u001b[39;49m\u001b[43m,\u001b[49m\u001b[43m \u001b[49m\u001b[38;5;28;43;01mNone\u001b[39;49;00m\u001b[43m)\u001b[49m\u001b[43m,\u001b[49m\n\u001b[1;32m   1670\u001b[0m \u001b[43m\u001b[49m\u001b[43m)\u001b[49m\n\u001b[1;32m   1671\u001b[0m \u001b[38;5;28;01massert\u001b[39;00m \u001b[38;5;28mself\u001b[39m\u001b[38;5;241m.\u001b[39mhandles \u001b[38;5;129;01mis\u001b[39;00m \u001b[38;5;129;01mnot\u001b[39;00m \u001b[38;5;28;01mNone\u001b[39;00m\n\u001b[1;32m   1672\u001b[0m f \u001b[38;5;241m=\u001b[39m \u001b[38;5;28mself\u001b[39m\u001b[38;5;241m.\u001b[39mhandles\u001b[38;5;241m.\u001b[39mhandle\n",
      "File \u001b[0;32m~/.local/lib/python3.8/site-packages/pandas/io/common.py:859\u001b[0m, in \u001b[0;36mget_handle\u001b[0;34m(path_or_buf, mode, encoding, compression, memory_map, is_text, errors, storage_options)\u001b[0m\n\u001b[1;32m    854\u001b[0m \u001b[38;5;28;01melif\u001b[39;00m \u001b[38;5;28misinstance\u001b[39m(handle, \u001b[38;5;28mstr\u001b[39m):\n\u001b[1;32m    855\u001b[0m     \u001b[38;5;66;03m# Check whether the filename is to be opened in binary mode.\u001b[39;00m\n\u001b[1;32m    856\u001b[0m     \u001b[38;5;66;03m# Binary mode does not support 'encoding' and 'newline'.\u001b[39;00m\n\u001b[1;32m    857\u001b[0m     \u001b[38;5;28;01mif\u001b[39;00m ioargs\u001b[38;5;241m.\u001b[39mencoding \u001b[38;5;129;01mand\u001b[39;00m \u001b[38;5;124m\"\u001b[39m\u001b[38;5;124mb\u001b[39m\u001b[38;5;124m\"\u001b[39m \u001b[38;5;129;01mnot\u001b[39;00m \u001b[38;5;129;01min\u001b[39;00m ioargs\u001b[38;5;241m.\u001b[39mmode:\n\u001b[1;32m    858\u001b[0m         \u001b[38;5;66;03m# Encoding\u001b[39;00m\n\u001b[0;32m--> 859\u001b[0m         handle \u001b[38;5;241m=\u001b[39m \u001b[38;5;28;43mopen\u001b[39;49m\u001b[43m(\u001b[49m\n\u001b[1;32m    860\u001b[0m \u001b[43m            \u001b[49m\u001b[43mhandle\u001b[49m\u001b[43m,\u001b[49m\n\u001b[1;32m    861\u001b[0m \u001b[43m            \u001b[49m\u001b[43mioargs\u001b[49m\u001b[38;5;241;43m.\u001b[39;49m\u001b[43mmode\u001b[49m\u001b[43m,\u001b[49m\n\u001b[1;32m    862\u001b[0m \u001b[43m            \u001b[49m\u001b[43mencoding\u001b[49m\u001b[38;5;241;43m=\u001b[39;49m\u001b[43mioargs\u001b[49m\u001b[38;5;241;43m.\u001b[39;49m\u001b[43mencoding\u001b[49m\u001b[43m,\u001b[49m\n\u001b[1;32m    863\u001b[0m \u001b[43m            \u001b[49m\u001b[43merrors\u001b[49m\u001b[38;5;241;43m=\u001b[39;49m\u001b[43merrors\u001b[49m\u001b[43m,\u001b[49m\n\u001b[1;32m    864\u001b[0m \u001b[43m            \u001b[49m\u001b[43mnewline\u001b[49m\u001b[38;5;241;43m=\u001b[39;49m\u001b[38;5;124;43m\"\u001b[39;49m\u001b[38;5;124;43m\"\u001b[39;49m\u001b[43m,\u001b[49m\n\u001b[1;32m    865\u001b[0m \u001b[43m        \u001b[49m\u001b[43m)\u001b[49m\n\u001b[1;32m    866\u001b[0m     \u001b[38;5;28;01melse\u001b[39;00m:\n\u001b[1;32m    867\u001b[0m         \u001b[38;5;66;03m# Binary mode\u001b[39;00m\n\u001b[1;32m    868\u001b[0m         handle \u001b[38;5;241m=\u001b[39m \u001b[38;5;28mopen\u001b[39m(handle, ioargs\u001b[38;5;241m.\u001b[39mmode)\n",
      "\u001b[0;31mFileNotFoundError\u001b[0m: [Errno 2] No such file or directory: './core/HallofFame.csv'"
     ]
    }
   ],
   "source": [
    "\n",
    "#loading the hall of fame table\n",
    "hof = pd.read_csv('./core/HallOfFame.csv')"
   ]
  },
  {
   "cell_type": "code",
   "execution_count": null,
   "metadata": {},
   "outputs": [],
   "source": [
    "hof.head()"
   ]
  },
  {
   "cell_type": "code",
   "execution_count": null,
   "metadata": {},
   "outputs": [],
   "source": [
    "#Count of HOFs by year\n",
    "\n",
    "plt.figure(figsize=(15,6))\n",
    "hof_countplot = sns.countplot(x='yearid',data=hof,hue='inducted')\n",
    "\n",
    "hof_countplot.set_xticks(hof_countplot.get_xticks(), hof_countplot.get_xticklabels(), rotation = 90, ha = 'center', fontsize = 'x-small')\n",
    "hof_countplot.set_title(\"Hall of Fame: Nominations and Inductions over years\")\n",
    "hof_countplot.grid(True)"
   ]
  },
  {
   "cell_type": "markdown",
   "metadata": {},
   "source": [
    "### Observation : 1958 was the year with maximum hall of fame values but no one was inducted.\n",
    "\n",
    "### Reason: In 1958, no players received the required 75% of BBWAA ballots for election to the Hall. The top vote getter was future electee Max Carey, who was named by 51.1% of the writers. Because the Veterans Committee held no vote, there was no induction ceremony in Cooperstown."
   ]
  },
  {
   "cell_type": "markdown",
   "metadata": {},
   "source": [
    "### Observation : 2006 was the year with maximum inductions.\n",
    "\n",
    "### More Info: In 2006, A record 18 inductees made up the largest single class in history."
   ]
  },
  {
   "cell_type": "markdown",
   "metadata": {},
   "source": [
    "This analysis could be useed to study hall of fame patterns in future and include them in performance and incentive related studies."
   ]
  },
  {
   "cell_type": "markdown",
   "metadata": {},
   "source": [
    "## Analysis 2 : \n",
    "\n",
    "### Table: Salaries and Teams\n",
    "\n",
    "#### For this analysis, we will aim to find out how has mean salaries changed over the years for teams and what are the teams with maximum salaries. We will also find out whether or not one of the reasons for a team to be a team that has maximum salaries is their consistent or better performance in games in terms of wins and ranks."
   ]
  },
  {
   "cell_type": "code",
   "execution_count": null,
   "metadata": {},
   "outputs": [],
   "source": [
    "sal = pd.read_csv(\"./core/Salaries.csv\")"
   ]
  },
  {
   "cell_type": "code",
   "execution_count": null,
   "metadata": {},
   "outputs": [],
   "source": [
    "sal.head()"
   ]
  },
  {
   "cell_type": "code",
   "execution_count": null,
   "metadata": {},
   "outputs": [],
   "source": [
    "#lets look at the mean salaries over the years\n",
    "sal_by_year = sal.groupby(by='yearID').agg({'salary':'mean'}).reset_index()\n",
    "new_columns = ['yearID','mean_salary']\n",
    "sal_by_year.columns = new_columns"
   ]
  },
  {
   "cell_type": "code",
   "execution_count": null,
   "metadata": {},
   "outputs": [],
   "source": [
    "sal_by_year['mean_salary'] = pd.to_numeric(sal_by_year['mean_salary'])\n"
   ]
  },
  {
   "cell_type": "code",
   "execution_count": null,
   "metadata": {},
   "outputs": [],
   "source": [
    "pd.set_option('display.float_format', str)"
   ]
  },
  {
   "cell_type": "code",
   "execution_count": null,
   "metadata": {},
   "outputs": [],
   "source": [
    "team_sal_scatterplot = sns.scatterplot(x='yearID',y='mean_salary',data=sal_by_year);\n",
    "team_sal_scatterplot.set_title(\"Team Mean Salaries over the years\")"
   ]
  },
  {
   "cell_type": "markdown",
   "metadata": {},
   "source": [
    "### Looks like a normal behaviour, the mean salary has increased over the years. It is mainly because of the 'money' reasons like:\n",
    "    - More funds \n",
    "    - Sport has become more of an entertainment thing and more and more 'viewers' keep adding up\n",
    "    - More sponsor deals"
   ]
  },
  {
   "cell_type": "code",
   "execution_count": null,
   "metadata": {},
   "outputs": [],
   "source": [
    "#lets find out teams with maximum average salary every year\n",
    "\n",
    "sal.salary.max()"
   ]
  },
  {
   "cell_type": "code",
   "execution_count": null,
   "metadata": {},
   "outputs": [],
   "source": [
    "#mean salaries for each team by year\n",
    "\n",
    "\n",
    "team_mean_sal = sal.groupby(['yearID','teamID']).agg({'salary':'mean'}).reset_index()\n",
    "team_mean_sal = team_mean_sal.rename(columns={'salary': 'mean_salary'})"
   ]
  },
  {
   "cell_type": "code",
   "execution_count": null,
   "metadata": {},
   "outputs": [],
   "source": [
    "#max mean salaries by year\n",
    "year_max_sal = team_mean_sal.groupby(['yearID']).agg({'mean_salary':'max'}).reset_index()"
   ]
  },
  {
   "cell_type": "code",
   "execution_count": null,
   "metadata": {},
   "outputs": [],
   "source": [
    "#joining the two tables above to find out team id with maximum mean salary for each year\n",
    "\n",
    "year_team_sal = pd.merge(team_mean_sal,year_max_sal,on=['yearID','mean_salary'])"
   ]
  },
  {
   "cell_type": "code",
   "execution_count": null,
   "metadata": {},
   "outputs": [],
   "source": [
    "#lets look at the team ids and their counts as teams with maximum mean salary\n",
    "max_salary_counts = year_team_sal['teamID'].value_counts()"
   ]
  },
  {
   "cell_type": "markdown",
   "metadata": {},
   "source": [
    "It can be seen that NYA has been the team with maximum mean salary for maximum number of years. Therefore, further analysis concerns NYA"
   ]
  },
  {
   "cell_type": "code",
   "execution_count": null,
   "metadata": {},
   "outputs": [],
   "source": [
    "#nya with its mean salaries over the years:\n",
    "\n",
    "nya_mean_sal_over_years = year_team_sal[year_team_sal['teamID']=='NYA']"
   ]
  },
  {
   "cell_type": "code",
   "execution_count": null,
   "metadata": {},
   "outputs": [],
   "source": [
    "nya_salary_lineplot = sns.lineplot(x='yearID',y='mean_salary',data=nya_mean_sal_over_years)\n",
    "nya_salary_lineplot.set_title(\"Mean salary over the years for NYA\")\n",
    "nya_salary_lineplot.grid(True);"
   ]
  },
  {
   "cell_type": "markdown",
   "metadata": {},
   "source": [
    "Let's find out counts of teams being the teams with maximum mean salaries over the years."
   ]
  },
  {
   "cell_type": "code",
   "execution_count": null,
   "metadata": {},
   "outputs": [],
   "source": [
    "#teams with maximum salary and their counts of being teams with max salary from 1985-2016\n",
    "team_and_sal = pd.DataFrame(year_team_sal['teamID'].value_counts()).reset_index()"
   ]
  },
  {
   "cell_type": "code",
   "execution_count": null,
   "metadata": {},
   "outputs": [],
   "source": [
    "explode = [0.1 if teamID == 'NYA' else 0 for teamID in list(team_and_sal.teamID.unique())]\n",
    "\n",
    "rank_pichart = plt.pie(team_and_sal['count'],labels=team_and_sal['teamID'],explode=explode,autopct='%1.0f%%')\n",
    "plt.title(\"Teams being teams with Max Average Salaries\");\n"
   ]
  },
  {
   "cell_type": "code",
   "execution_count": null,
   "metadata": {},
   "outputs": [],
   "source": [
    "#let's find out NYA's performance over the years and see if them being the team with max salary is justified by their performance."
   ]
  },
  {
   "cell_type": "code",
   "execution_count": null,
   "metadata": {},
   "outputs": [],
   "source": [
    "teams = pd.read_csv(\"./core/Teams.csv\")"
   ]
  },
  {
   "cell_type": "code",
   "execution_count": null,
   "metadata": {},
   "outputs": [],
   "source": [
    "team_wins = teams.groupby(by='teamID').agg({'W':'sum'}).reset_index()"
   ]
  },
  {
   "cell_type": "code",
   "execution_count": null,
   "metadata": {},
   "outputs": [],
   "source": [
    "#This shows that NYA is on postition second in number of wins\n",
    "team_wins.sort_values('W',ascending=False)"
   ]
  },
  {
   "cell_type": "code",
   "execution_count": null,
   "metadata": {},
   "outputs": [],
   "source": [
    "#lets see NYA's rank distribution\n",
    "nya_stats = teams[teams['teamID']=='NYA']"
   ]
  },
  {
   "cell_type": "code",
   "execution_count": null,
   "metadata": {},
   "outputs": [],
   "source": [
    "plt.figure(figsize=(12,6))\n",
    "nya_rank_countplot = sns.countplot(x='Rank',data=nya_stats)\n",
    "nya_rank_countplot.set_title(\"NYA rank distribution\")\n",
    "nya_rank_countplot.grid(True)"
   ]
  },
  {
   "cell_type": "code",
   "execution_count": null,
   "metadata": {},
   "outputs": [],
   "source": [
    "# Turns out, performance could be a reason of the highest average salary. Ranked by the wins NYA is on 2nd position and when rank distribution is plotted, rank 1 has the highest\n",
    "#count as compared to other counts"
   ]
  },
  {
   "cell_type": "markdown",
   "metadata": {},
   "source": [
    "### Could the reason for NYA being the team with highest average salary be their performance? i.e. has their mean salary increased as a result of their better performance in terms of wins and ranks in the past?\n",
    "\n",
    "    ### It *could* be \n",
    "        - The lineplot for median salaries for nya shows a genereal increasing trend with two dips between 2005 and 2015\n",
    "        - from the years 1985-2016 NYA has been the team with maximum average salary among all teams for 59% of the time, the pie chart shows that\n",
    "        - The rank distribution over the year i.e. the barplot shows that NYA has been ranked 1st 47 times and have barely left the top 5 rankings\n",
    "\n",
    "        these are indicators of good performance and thus, one of the reasons that it is a team with maximum average salary could be their performance."
   ]
  },
  {
   "cell_type": "markdown",
   "metadata": {},
   "source": [
    "This analysis could be really resourceful for the times when grants are to be given to the teams based on the needs. For example, the teams who have performed good enough but salaries do not correspond to their performance can be analysed and one of the starter points for that analysis could be this one. Also, this analysis can be used by anyone trying to study the money distribution and imbalances in salaries."
   ]
  },
  {
   "cell_type": "markdown",
   "metadata": {},
   "source": [
    "# Analysis 3:\n",
    "# Complete Games vs Career Length of Pitchers\n",
    "\n",
    "## Introduction\n",
    "For this analysis, we will make the claim that pitchers have longer careers the less complete games they throw. This would correlate because there would be less damage and stress on their arms. We will analyze data to compare and see if we're correct.\n"
   ]
  },
  {
   "cell_type": "code",
   "execution_count": null,
   "metadata": {},
   "outputs": [],
   "source": [
    "import pandas as pd\n",
    "import matplotlib.pyplot as plt\n",
    "import seaborn as sns\n",
    "try:\n",
    "    import seaborn as sns\n",
    "except ImportError as e:\n",
    "    %pip install seaborn\n",
    "    import seaborn as sns\n",
    "sns.set(style=\"whitegrid\") \n",
    "\n",
    "pitching_data = pd.read_csv('./core/Pitching.csv') "
   ]
  },
  {
   "cell_type": "markdown",
   "metadata": {},
   "source": [
    "## Data Preparation\n"
   ]
  },
  {
   "cell_type": "code",
   "execution_count": null,
   "metadata": {},
   "outputs": [],
   "source": [
    "# total cgs\n",
    "cg_yearly = pitching_data.groupby('yearID')['CG'].sum().reset_index()\n",
    "\n",
    "# career length\n",
    "career_length = pitching_data.groupby('playerID')['yearID'].agg(['min', 'max'])\n",
    "career_length['career_length'] = career_length['max'] - career_length['min']\n",
    "\n",
    "career_length['yearID'] = career_length['max']\n",
    "career_length_average = career_length.groupby('yearID')['career_length'].mean().reset_index()\n",
    "\n",
    "cg_career_length_analysis = pd.merge(cg_yearly, career_length_average, on='yearID')"
   ]
  },
  {
   "cell_type": "markdown",
   "metadata": {},
   "source": [
    "First, we load the data and calculate the key metrics for our analysis: the number of complete games per year and the average career length of pitchers."
   ]
  },
  {
   "cell_type": "markdown",
   "metadata": {},
   "source": [
    "## Data Analysis and Trends\n"
   ]
  },
  {
   "cell_type": "code",
   "execution_count": null,
   "metadata": {},
   "outputs": [],
   "source": [
    "plt.figure(figsize=(14, 7))\n",
    "ax = sns.lineplot(x='yearID', y='CG', data=cg_yearly, label='Total Complete Games', color='skyblue')\n",
    "plt.ylabel('Total Complete Games')\n",
    "ax2 = plt.twinx()\n",
    "sns.lineplot(x='yearID', y='career_length', data=career_length_average, label='Average Career Length (Years)', color='coral', ax=ax2)\n",
    "plt.ylabel('Average Career Length (Years)')\n",
    "plt.title('Complete Games vs. Career Longevity Over Years')\n",
    "plt.legend(loc='upper left')\n",
    "plt.show()"
   ]
  },
  {
   "cell_type": "markdown",
   "metadata": {},
   "source": [
    "With the metrics calculated, we will observe the trends over time to determine how the role and usage of pitchers have evolved."
   ]
  },
  {
   "cell_type": "code",
   "execution_count": null,
   "metadata": {},
   "outputs": [],
   "source": [
    "plt.figure(figsize=(14, 7))\n",
    "sns.histplot(career_length['career_length'], bins=30, kde=True, color='purple')\n",
    "plt.title(\"Distribution of Pitchers' Career Lengths\")\n",
    "plt.xlabel('Career Length (Years)')\n",
    "plt.ylabel('Number of Pitchers')\n",
    "plt.show()"
   ]
  },
  {
   "cell_type": "markdown",
   "metadata": {},
   "source": [
    "## Analysis and Conclusion\n"
   ]
  },
  {
   "cell_type": "markdown",
   "metadata": {},
   "source": [
    "The data shows a significant decrease in the number of complete games over the years, which aligns with the broader trend in baseball towards more specialized roles, such as relief and closing pitchers. This strategy may be a response to protect pitchers from injury and fatigue, which can result from the high physical demand of pitching complete games.\n",
    "\n",
    "However, the data does not indicate a clear increase in career longevity despite the reduction in complete games. This could suggest that while pitchers are being protected more during games, other factors may be influencing career length. These different factors could include things like better sports medicine, better training programs, a more talented and larger player pool, or simply the natural physical limitations of pitching over many seasons.\n",
    "\n",
    "Moreover, advances in sports medicine and surgery may mean that injuries that once ended careers can now be treated effectively, allowing pitchers to return to play. However, the stress of pitching, particularly at high velocities, still takes a toll on the body, and this may limit the potential for significantly longer careers.\n",
    "\n",
    "It's important to recognize that the decline in complete games is a strategic choice that reflects more of a change in strategy in the game of baseball rather than a decline in pitcher's ability or longevity. "
   ]
  },
  {
   "cell_type": "markdown",
   "metadata": {},
   "source": [
    "# Analysis 4: \n",
    "# Pitching Metrics Analysis: ERA vs Wins and WHIP vs Wins\n",
    "\n",
    "## Introduction\n",
    "In this analysis, we will first see if a lower WHIP means a lower ERA, and visa versa. We will then compare those stats with wins to see if there is a correlation between these pitching performance metrics and wins.\n",
    "\n"
   ]
  },
  {
   "cell_type": "code",
   "execution_count": null,
   "metadata": {},
   "outputs": [],
   "source": [
    "\n",
    "import pandas as pd\n",
    "import matplotlib.pyplot as plt\n",
    "import seaborn as sns\n",
    "sns.set(style=\"whitegrid\")\n",
    "\n",
    "\n",
    "pitching_data = pd.read_csv('./core/Pitching.csv')  # Replace with your actual file path\n",
    "\n",
    "# Calculating WHIP \n",
    "pitching_data['IP'] = pitching_data['IPouts'] / 3  # Convert outs to innings pitched\n",
    "pitching_data['WHIP'] = (pitching_data['BB'] + pitching_data['H']) / pitching_data['IP']\n"
   ]
  },
  {
   "cell_type": "code",
   "execution_count": null,
   "metadata": {},
   "outputs": [],
   "source": [
    "\n",
    "# WHIP vs ERA\n",
    "plt.figure(figsize=(10, 6))\n",
    "sns.scatterplot(x='WHIP', y='ERA', data=pitching_data, alpha=0.6)\n",
    "plt.title('WHIP vs ERA')\n",
    "plt.xlabel('WHIP (Walks plus Hits per Inning Pitched)')\n",
    "plt.ylabel('ERA (Earned Run Average)')\n",
    "plt.show()\n"
   ]
  },
  {
   "cell_type": "code",
   "execution_count": null,
   "metadata": {},
   "outputs": [],
   "source": [
    "\n",
    "# ERA vs Wins\n",
    "plt.figure(figsize=(10, 6))\n",
    "sns.scatterplot(x='W', y='ERA', data=pitching_data, alpha=0.6)\n",
    "plt.title('ERA vs Wins')\n",
    "plt.xlabel('Games Won')\n",
    "plt.ylabel('ERA (Earned Run Average)')\n",
    "plt.gca().invert_yaxis()  # Inverting y-axis as lower ERA is better\n",
    "plt.show()\n"
   ]
  },
  {
   "cell_type": "code",
   "execution_count": null,
   "metadata": {},
   "outputs": [],
   "source": [
    "\n",
    "# WHIP vs Wins\n",
    "plt.figure(figsize=(10, 6))\n",
    "sns.scatterplot(x='W', y='WHIP', data=pitching_data, alpha=0.6)\n",
    "plt.title('WHIP vs Wins')\n",
    "plt.xlabel('Games Won')\n",
    "plt.ylabel('WHIP (Walks plus Hits per Inning Pitched)')\n",
    "plt.gca().invert_yaxis()  # Inverting y-axis as lower WHIP is better\n",
    "plt.show()\n"
   ]
  },
  {
   "cell_type": "markdown",
   "metadata": {},
   "source": [
    "\n",
    "## Analysis and Conclusion\n",
    "The visualizations suggest that both ERA and WHIP are indicators of a pitcher's success in terms of wins. However, the relationship is not perfectly linear, indicating that other factors also play a significant role in a pitcher's success. \n",
    "\n",
    "It does appear that for the most part, lower ERA correlates with lower WHIP, with some general outliers. These could be due to various reasons, such as defense, high walk pitures that get out of jams, or many other things.\n",
    "\n",
    "From the scatter plots, we can observe that a lower ERA tends to correspond with a higher number of wins, which aligns with conventional baseball wisdom. Similarly, a lower WHIP also tends to correlate with more wins, supporting the claim that pitchers who allow fewer batters to reach base are more likely to be successful.\n",
    "\n",
    "In conclusion, while both ERA and WHIP are valuable metrics, neither can be the sole predictor of a pitcher's success. There ends up being many other factors in baseball that affect a pitcher's success and the team's ability to win. These things include run support, defense, innings pitched, and all sorts of other factors. The complexity of baseball and the numerous variables affecting game outcomes mean that these metrics should be considered alongside other data to evaluate a pitcher's performance thoroughly.\n"
   ]
  }
 ],
 "metadata": {
  "kernelspec": {
   "display_name": "Python 3 (ipykernel)",
   "language": "python",
   "name": "python3"
  },
  "language_info": {
   "codemirror_mode": {
    "name": "ipython",
    "version": 3
   },
   "file_extension": ".py",
   "mimetype": "text/x-python",
   "name": "python",
   "nbconvert_exporter": "python",
   "pygments_lexer": "ipython3",
   "version": "3.8.10"
  }
 },
 "nbformat": 4,
 "nbformat_minor": 4
}
